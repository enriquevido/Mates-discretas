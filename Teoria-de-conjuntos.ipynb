{
 "cells": [
  {
   "cell_type": "markdown",
   "metadata": {},
   "source": [
    "# Teoría de conjuntos"
   ]
  },
  {
   "cell_type": "markdown",
   "metadata": {},
   "source": [
    "La teoría de conjuntos es una rama de la lógica-matemática que se encarga del estudio de las relaciones entre entidades denominadas conjuntos. Los conjuntos se caracterizan por ser colecciones de objetos de una misma naturaleza. Dichos objetos son los elementos del conjunto y pueden ser: números, letras, figuras geométricas, palabras que representan objetos, los objetos mismos y otros."
   ]
  },
  {
   "cell_type": "markdown",
   "metadata": {},
   "source": [
    "### Creación de conjuntos"
   ]
  },
  {
   "cell_type": "markdown",
   "metadata": {},
   "source": [
    "En Python, puedes crear un conjunto utilizando llaves {} o la función set()."
   ]
  },
  {
   "cell_type": "code",
   "execution_count": null,
   "metadata": {},
   "outputs": [],
   "source": [
    "A = {1, 2, 3, 4, 5}"
   ]
  },
  {
   "cell_type": "code",
   "execution_count": null,
   "metadata": {},
   "outputs": [],
   "source": [
    "B = {3, 4, 5, 6, 7}"
   ]
  },
  {
   "cell_type": "code",
   "execution_count": null,
   "metadata": {},
   "outputs": [],
   "source": [
    "c = set({3, 6, 9, 12, 15})"
   ]
  },
  {
   "cell_type": "markdown",
   "metadata": {},
   "source": [
    "### Listas vs Conjuntos"
   ]
  },
  {
   "cell_type": "code",
   "execution_count": null,
   "metadata": {},
   "outputs": [],
   "source": [
    "lista = [1, 2, 3, 4, 5, 1, 2, 3, 4, 5]"
   ]
  },
  {
   "cell_type": "code",
   "execution_count": null,
   "metadata": {},
   "outputs": [],
   "source": [
    "lista"
   ]
  },
  {
   "cell_type": "code",
   "execution_count": null,
   "metadata": {},
   "outputs": [],
   "source": [
    "conjunto = set(lista)"
   ]
  },
  {
   "cell_type": "code",
   "execution_count": null,
   "metadata": {},
   "outputs": [],
   "source": [
    "conjunto"
   ]
  },
  {
   "cell_type": "markdown",
   "metadata": {},
   "source": [
    "## Operaciones"
   ]
  },
  {
   "cell_type": "markdown",
   "metadata": {},
   "source": [
    "Python proporciona operadores y métodos para realizar las operaciones básicas de conjuntos como unión, intersección, diferencia y diferencia simétrica."
   ]
  },
  {
   "cell_type": "markdown",
   "metadata": {},
   "source": [
    "### Unión"
   ]
  },
  {
   "cell_type": "markdown",
   "metadata": {},
   "source": [
    "La operación de unión en teoría de conjuntos es una operación que combina dos conjuntos para formar un nuevo conjunto que contiene todos os elementos que peretenenc a almenos uno de los conjuntos originales sin duplicados.\n",
    "Formalmente, si A y B son conjuntos, la unión de A y B se define como el conjunto C que contiene todos los elementos que pertenecen a A, a B, o a ambos.\n",
    "Matemáticamente esto se puede expresar como:\n",
    "\n",
    "$$\n",
    "    C = A \\cup B = {x:x \\in A \\quad o \\quad x \\in B}\n",
    "$$\n",
    "\n",
    "En Python, la operación de unión puede realizarse utilizando el operador | o el método union()"
   ]
  },
  {
   "cell_type": "code",
   "execution_count": 22,
   "metadata": {},
   "outputs": [
    {
     "data": {
      "text/plain": [
       "{1, 2, 3, 4, 5, 6, 7}"
      ]
     },
     "execution_count": 22,
     "metadata": {},
     "output_type": "execute_result"
    }
   ],
   "source": [
    "A  | B"
   ]
  },
  {
   "cell_type": "code",
   "execution_count": 21,
   "metadata": {},
   "outputs": [
    {
     "data": {
      "text/plain": [
       "{1, 2, 3, 4, 5, 6, 7}"
      ]
     },
     "execution_count": 21,
     "metadata": {},
     "output_type": "execute_result"
    }
   ],
   "source": [
    "A.union(B)"
   ]
  },
  {
   "cell_type": "markdown",
   "metadata": {},
   "source": [
    "### Intersección"
   ]
  },
  {
   "cell_type": "markdown",
   "metadata": {},
   "source": [
    "La intersección de dos conjuntos A y B, denotada por A∩B, es el conjunto de todos los elementos que son comunes a ambos conjuntos. En otras palabras, es el conjunto que contiene todos los elementos que pertenecen tanto a A como a B.\n",
    "$$\n",
    "    A \\cap B = \\left\\{x | x \\in A \\land x \\in B\\right\\} \n",
    "$$\n",
    "Ejemplo:\n",
    "Si A = {1, 2, 3, 4} y B = {3, 4, 5, 6}, entonces A∩B = {3, 4}, ya que los elementos 3 y 4 están presentes en ambos conjuntos.\n",
    "\n",
    "<img src = \"https://www.lifeder.com/wp-content/uploads/2019/12/Conjunto-01.jpg\"\n",
    "   style=\"display: block; margin-left: auto; margin-right: auto;\"/>"
   ]
  },
  {
   "cell_type": "markdown",
   "metadata": {},
   "source": [
    "### Diferencia"
   ]
  },
  {
   "cell_type": "markdown",
   "metadata": {},
   "source": [
    "La diferencia de dos conjuntos A y B, denotada por A−B (o a veces A∖B), es el conjunto de todos los elementos que pertenecen a A pero no a B. En otras palabras, es el conjunto que contiene todos los elementos de A que no están en B.\n",
    "La fórmula para la diferencia de dos conjuntos A y B es:\n",
    "$$\n",
    "    A - B = \\left\\{x|x \\in A \\land x \\notin B \\right\\}\n",
    "$$\n",
    "$$\n",
    "    B - A = \\left\\{x|x \\in B \\land x \\notin A \\right\\}\n",
    "$$\n",
    "\n",
    "Ejemplo:\n",
    "Si A = {1, 2, 3, 4} y B = {3, 4, 5, 6}, entonces A-B = {1, 2}, ya que los elementos 1 y 2 están en A pero no en B.\n",
    "\n",
    "<img src = \"https://flamath.com/wp-content/uploads/diferencia-de-conjuntos.jpg\"\n",
    "   style=\"display: block; margin-left: auto; margin-right: auto;\"/>"
   ]
  },
  {
   "cell_type": "markdown",
   "metadata": {},
   "source": [
    "### Diferencia simétrica"
   ]
  },
  {
   "cell_type": "markdown",
   "metadata": {},
   "source": [
    "La diferencia simétrica de dos conjuntos A y B, denotada por AΔB, es el conjunto de todos los elementos que están en A o en B, pero no en ambos. En otras palabras, es el conjunto que contiene todos los elementos que pertenecen a A o a B, pero no a ambos al mismo tiempo.\n",
    "La fórmula para la diferencia simétrica de dos conjuntos A y B es:\n",
    "$$\n",
    "A \\Delta B = {(A - B) \\cup (B - A) }\n",
    "$$"
   ]
  },
  {
   "cell_type": "markdown",
   "metadata": {},
   "source": [
    "## Diagramas de Venn"
   ]
  }
 ],
 "metadata": {
  "kernelspec": {
   "display_name": "Python 3",
   "language": "python",
   "name": "python3"
  },
  "language_info": {
   "codemirror_mode": {
    "name": "ipython",
    "version": 3
   },
   "file_extension": ".py",
   "mimetype": "text/x-python",
   "name": "python",
   "nbconvert_exporter": "python",
   "pygments_lexer": "ipython3",
   "version": "3.12.2"
  }
 },
 "nbformat": 4,
 "nbformat_minor": 2
}
