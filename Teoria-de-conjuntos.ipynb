{
 "cells": [
  {
   "cell_type": "markdown",
   "metadata": {},
   "source": [
    "# Teoría de conjuntos"
   ]
  },
  {
   "cell_type": "markdown",
   "metadata": {},
   "source": [
    "La teoría de conjuntos es una rama de la lógica-matemática que se encarga del estudio de las relaciones entre entidades denominadas conjuntos. Los conjuntos se caracterizan por ser colecciones de objetos de una misma naturaleza. Dichos objetos son los elementos del conjunto y pueden ser: números, letras, figuras geométricas, palabras que representan objetos, los objetos mismos y otros."
   ]
  },
  {
   "cell_type": "markdown",
   "metadata": {},
   "source": [
    "### Creación de conjuntos"
   ]
  },
  {
   "cell_type": "markdown",
   "metadata": {},
   "source": [
    "En Python, puedes crear un conjunto utilizando llaves {} o la función set()."
   ]
  },
  {
   "cell_type": "code",
<<<<<<< HEAD
   "execution_count": 40,
=======
   "execution_count": null,
>>>>>>> a82ebd7ad5674a27acb2bf522f495c70e2ca5780
   "metadata": {},
   "outputs": [],
   "source": [
    "A = {1, 2, 3, 4, 5}"
   ]
  },
  {
   "cell_type": "code",
<<<<<<< HEAD
   "execution_count": 41,
=======
   "execution_count": null,
>>>>>>> a82ebd7ad5674a27acb2bf522f495c70e2ca5780
   "metadata": {},
   "outputs": [],
   "source": [
    "B = {3, 4, 5, 6, 7}"
   ]
  },
  {
   "cell_type": "code",
<<<<<<< HEAD
   "execution_count": 42,
=======
   "execution_count": null,
>>>>>>> a82ebd7ad5674a27acb2bf522f495c70e2ca5780
   "metadata": {},
   "outputs": [],
   "source": [
    "c = set({3, 6, 9, 12, 15})"
   ]
  },
  {
   "cell_type": "markdown",
   "metadata": {},
   "source": [
    "### Listas vs Conjuntos"
   ]
  },
  {
   "cell_type": "code",
<<<<<<< HEAD
   "execution_count": 43,
=======
   "execution_count": null,
>>>>>>> a82ebd7ad5674a27acb2bf522f495c70e2ca5780
   "metadata": {},
   "outputs": [],
   "source": [
    "lista = [1, 2, 3, 4, 5, 1, 2, 3, 4, 5]"
   ]
  },
  {
   "cell_type": "code",
<<<<<<< HEAD
   "execution_count": 44,
   "metadata": {},
   "outputs": [
    {
     "data": {
      "text/plain": [
       "[1, 2, 3, 4, 5, 1, 2, 3, 4, 5]"
      ]
     },
     "execution_count": 44,
     "metadata": {},
     "output_type": "execute_result"
    }
   ],
=======
   "execution_count": null,
   "metadata": {},
   "outputs": [],
>>>>>>> a82ebd7ad5674a27acb2bf522f495c70e2ca5780
   "source": [
    "lista"
   ]
  },
  {
   "cell_type": "code",
<<<<<<< HEAD
   "execution_count": 45,
=======
   "execution_count": null,
>>>>>>> a82ebd7ad5674a27acb2bf522f495c70e2ca5780
   "metadata": {},
   "outputs": [],
   "source": [
    "conjunto = set(lista)"
   ]
  },
  {
   "cell_type": "code",
<<<<<<< HEAD
   "execution_count": 46,
   "metadata": {},
   "outputs": [
    {
     "data": {
      "text/plain": [
       "{1, 2, 3, 4, 5}"
      ]
     },
     "execution_count": 46,
     "metadata": {},
     "output_type": "execute_result"
    }
   ],
=======
   "execution_count": null,
   "metadata": {},
   "outputs": [],
>>>>>>> a82ebd7ad5674a27acb2bf522f495c70e2ca5780
   "source": [
    "conjunto"
   ]
  },
  {
   "cell_type": "markdown",
   "metadata": {},
   "source": [
    "## Operaciones"
   ]
  },
  {
   "cell_type": "markdown",
   "metadata": {},
   "source": [
    "Python proporciona operadores y métodos para realizar las operaciones básicas de conjuntos como unión, intersección, diferencia y diferencia simétrica."
   ]
  },
  {
   "cell_type": "markdown",
   "metadata": {},
   "source": [
    "### Unión"
   ]
  },
  {
   "cell_type": "markdown",
   "metadata": {},
   "source": [
    "La operación de unión en teoría de conjuntos es una operación que combina dos conjuntos para formar un nuevo conjunto que contiene todos os elementos que peretenenc a almenos uno de los conjuntos originales sin duplicados.\n",
    "Formalmente, si A y B son conjuntos, la unión de A y B se define como el conjunto C que contiene todos los elementos que pertenecen a A, a B, o a ambos.\n",
    "Matemáticamente esto se puede expresar como:\n",
    "\n",
    "$$\n",
    "    C = A \\cup B = {x:x \\in A \\quad o \\quad x \\in B}\n",
    "$$\n",
    "\n",
    "En Python, la operación de unión puede realizarse utilizando el operador | o el método union()"
   ]
  },
  {
   "cell_type": "code",
<<<<<<< HEAD
   "execution_count": 47,
=======
   "execution_count": 22,
>>>>>>> a82ebd7ad5674a27acb2bf522f495c70e2ca5780
   "metadata": {},
   "outputs": [
    {
     "data": {
      "text/plain": [
       "{1, 2, 3, 4, 5, 6, 7}"
      ]
     },
<<<<<<< HEAD
     "execution_count": 47,
=======
     "execution_count": 22,
>>>>>>> a82ebd7ad5674a27acb2bf522f495c70e2ca5780
     "metadata": {},
     "output_type": "execute_result"
    }
   ],
   "source": [
    "A  | B"
   ]
  },
  {
   "cell_type": "code",
<<<<<<< HEAD
   "execution_count": 48,
=======
   "execution_count": 21,
>>>>>>> a82ebd7ad5674a27acb2bf522f495c70e2ca5780
   "metadata": {},
   "outputs": [
    {
     "data": {
      "text/plain": [
       "{1, 2, 3, 4, 5, 6, 7}"
      ]
     },
<<<<<<< HEAD
     "execution_count": 48,
=======
     "execution_count": 21,
>>>>>>> a82ebd7ad5674a27acb2bf522f495c70e2ca5780
     "metadata": {},
     "output_type": "execute_result"
    }
   ],
   "source": [
    "A.union(B)"
   ]
  },
  {
   "cell_type": "markdown",
   "metadata": {},
   "source": [
    "### Intersección"
   ]
  },
  {
   "cell_type": "markdown",
   "metadata": {},
   "source": [
    "La intersección de dos conjuntos A y B, denotada por A∩B, es el conjunto de todos los elementos que son comunes a ambos conjuntos. En otras palabras, es el conjunto que contiene todos los elementos que pertenecen tanto a A como a B.\n",
    "$$\n",
    "    A \\cap B = \\left\\{x | x \\in A \\land x \\in B\\right\\} \n",
    "$$\n",
    "Ejemplo:\n",
    "Si A = {1, 2, 3, 4} y B = {3, 4, 5, 6}, entonces A∩B = {3, 4}, ya que los elementos 3 y 4 están presentes en ambos conjuntos.\n",
    "\n",
<<<<<<< HEAD
    "<img src = \"https://flamath.com/wp-content/uploads/interseccion-de-conjuntos.png\"\n",
    "   style=\"display: block; margin-left: auto; margin-right: auto;\"\n",
    "   width = 450\n",
    "   />"
=======
    "<img src = \"https://www.lifeder.com/wp-content/uploads/2019/12/Conjunto-01.jpg\"\n",
    "   style=\"display: block; margin-left: auto; margin-right: auto;\"/>"
>>>>>>> a82ebd7ad5674a27acb2bf522f495c70e2ca5780
   ]
  },
  {
   "cell_type": "markdown",
   "metadata": {},
   "source": [
    "### Diferencia"
   ]
  },
  {
   "cell_type": "markdown",
   "metadata": {},
   "source": [
    "La diferencia de dos conjuntos A y B, denotada por A−B (o a veces A∖B), es el conjunto de todos los elementos que pertenecen a A pero no a B. En otras palabras, es el conjunto que contiene todos los elementos de A que no están en B.\n",
    "La fórmula para la diferencia de dos conjuntos A y B es:\n",
    "$$\n",
    "    A - B = \\left\\{x|x \\in A \\land x \\notin B \\right\\}\n",
    "$$\n",
    "$$\n",
    "    B - A = \\left\\{x|x \\in B \\land x \\notin A \\right\\}\n",
    "$$\n",
    "\n",
    "Ejemplo:\n",
    "Si A = {1, 2, 3, 4} y B = {3, 4, 5, 6}, entonces A-B = {1, 2}, ya que los elementos 1 y 2 están en A pero no en B.\n",
    "\n",
    "<img src = \"https://flamath.com/wp-content/uploads/diferencia-de-conjuntos.jpg\"\n",
<<<<<<< HEAD
    "   style=\"display: block; margin-left: auto; margin-right: auto;\"\n",
    "   width = 450\n",
    "   />"
=======
    "   style=\"display: block; margin-left: auto; margin-right: auto;\"/>"
>>>>>>> a82ebd7ad5674a27acb2bf522f495c70e2ca5780
   ]
  },
  {
   "cell_type": "markdown",
   "metadata": {},
   "source": [
    "### Diferencia simétrica"
   ]
  },
  {
   "cell_type": "markdown",
   "metadata": {},
   "source": [
    "La diferencia simétrica de dos conjuntos A y B, denotada por AΔB, es el conjunto de todos los elementos que están en A o en B, pero no en ambos. En otras palabras, es el conjunto que contiene todos los elementos que pertenecen a A o a B, pero no a ambos al mismo tiempo.\n",
    "La fórmula para la diferencia simétrica de dos conjuntos A y B es:\n",
    "$$\n",
    "A \\Delta B = {(A - B) \\cup (B - A) }\n",
<<<<<<< HEAD
    "$$\n",
    "\n",
    "Ejemplo:\n",
    "Si A = {1, 2, 3, 4} y B = {3, 4, 5, 6}, entonces AΔB = {1, 2, 5, 6}, ya que los elementos 1 y 2 están en A pero no en B y los elementos 5 y 6 están en B pero no en A.\n",
    "\n",
    "<img src = \"https://flamath.com/wp-content/uploads/diferencia-simetrica-conjuntos.png\"\n",
    "   style=\"display: block; margin-left: auto; margin-right: auto;\"\n",
    "   width = 450\n",
    "   />\n",
    "\n"
=======
    "$$"
>>>>>>> a82ebd7ad5674a27acb2bf522f495c70e2ca5780
   ]
  },
  {
   "cell_type": "markdown",
   "metadata": {},
   "source": [
    "## Diagramas de Venn"
   ]
<<<<<<< HEAD
  },
  {
   "cell_type": "markdown",
   "metadata": {},
   "source": [
    "Los diagramas de Venn son herramientas visuales utilizadas en matemáticas para representar las relaciones entre conjuntos. Fueron introducidos por el matemático británico John Venn en el siglo XIX. Los diagramas de Venn consisten en círculos o elipses que se superponen parcialmente o completamente, y cada círculo representa un conjunto. Las áreas de intersección entre los círculos representan los elementos que pertenecen a ambos conjuntos.\n",
    "\n",
    "Funcionamiento:\n",
    "\n",
    "Representación visual de conjuntos: Los diagramas de Venn muestran cómo se superponen o se relacionan entre sí los conjuntos. Los conjuntos se representan como círculos o elipses, y las intersecciones entre los círculos representan los elementos que pertenecen a ambos conjuntos.\n",
    "\n",
    "Análisis de relaciones entre conjuntos: Estos diagramas facilitan la comprensión de las relaciones entre los conjuntos. Permiten visualizar fácilmente la unión, intersección, diferencia y diferencia simétrica entre los conjuntos.\n",
    "\n",
    "Los diagramas de Venn no tienen una fórmula específica asociada con ellos, ya que son herramientas visuales más que operaciones matemáticas. Sin embargo, se pueden utilizar en conjunto con fórmulas y operaciones de conjuntos para visualizar y comprender mejor las relaciones entre los conjuntos.\n",
    "\n",
    "### Ejemplo Diagrama de Venn:"
   ]
  },
  {
   "cell_type": "code",
   "execution_count": 49,
   "metadata": {},
   "outputs": [
    {
     "name": "stdout",
     "output_type": "stream",
     "text": [
      "Matloplib Version : 3.8.3\n"
     ]
    }
   ],
   "source": [
    "import matplotlib\n",
    "print(\"Matloplib Version : {}\".format(matplotlib.__version__))"
   ]
  },
  {
   "cell_type": "code",
   "execution_count": 50,
   "metadata": {},
   "outputs": [
    {
     "data": {
      "text/plain": [
       "(-0.4, 0.2)"
      ]
     },
     "execution_count": 50,
     "metadata": {},
     "output_type": "execute_result"
    },
    {
     "data": {
      "image/png": "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",
      "text/plain": [
       "<Figure size 800x800 with 1 Axes>"
      ]
     },
     "metadata": {},
     "output_type": "display_data"
    }
   ],
   "source": [
    "import matplotlib.pyplot as plt\n",
    "fig = plt.figure(figsize=(8, 8))\n",
    "ax = fig.add_subplot(1,1,1)\n",
    "plt.scatter(x=[0, 0.25, 0.13], y=[0,0,-0.2], s=75000, color = [\"red\", \"green\", \"purple\"], alpha=0.3)\n",
    "\n",
    "plt.xlim(-0.25, 0.5)\n",
    "plt.ylim(-0.4, 0.2)"
   ]
=======
>>>>>>> a82ebd7ad5674a27acb2bf522f495c70e2ca5780
  }
 ],
 "metadata": {
  "kernelspec": {
   "display_name": "Python 3",
   "language": "python",
   "name": "python3"
  },
  "language_info": {
   "codemirror_mode": {
    "name": "ipython",
    "version": 3
   },
   "file_extension": ".py",
   "mimetype": "text/x-python",
   "name": "python",
   "nbconvert_exporter": "python",
   "pygments_lexer": "ipython3",
   "version": "3.12.2"
  }
 },
 "nbformat": 4,
 "nbformat_minor": 2
}
